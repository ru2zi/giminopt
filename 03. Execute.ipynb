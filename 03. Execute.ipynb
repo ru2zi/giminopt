{
 "cells": [
  {
   "cell_type": "code",
   "execution_count": 2,
   "id": "2c71c182-c747-4b44-8016-f72a840a37ce",
   "metadata": {},
   "outputs": [],
   "source": [
    "import os\n",
    "import openai\n",
    "import pandas as pd\n",
    "from openai import OpenAI\n",
    "\n",
    "\n",
    "client = OpenAI()\n",
    "response = openai.Completion.create(\n",
    "  model=\"davinci:ft-personal:superhero-2023-04-13-01-48-11\",\n",
    "  prompt=\"18, Man, can eat a lot ->\\n\",\n",
    "  temperature=0.7,\n",
    "  max_tokens=256,\n",
    "  top_p=1,\n",
    "  frequency_penalty=0,\n",
    "  presence_penalty=0,\n",
    "  stop=[\"END\"]\n",
    ")"
   ]
  },
  {
   "cell_type": "code",
   "execution_count": 5,
   "id": "1db8421a-bbfd-4e83-8a61-5f1c4741b18b",
   "metadata": {},
   "outputs": [
    {
     "data": {
      "text/plain": [
       "'\\nHe was 18 years old, six feet tall, and muscular. His face looked both wise and mischievous, with dark brown eyes, a straight nose and a small mouth with full lips. His dark hair was usually styled with gel, making it look like he just stepped out of the salon.\\n\\nHe had a superpower. He could eat a lot and never get full. He could eat a whole pizza, or three burgers, or six slices of cake and still be hungry. If he was invited to a party, he would be sure to bring his own snacks, just in case. He knew how to use his superpower to his advantage. '"
      ]
     },
     "execution_count": 5,
     "metadata": {},
     "output_type": "execute_result"
    }
   ],
   "source": [
    "response.choices[0].text"
   ]
  }
 ],
 "metadata": {
  "kernelspec": {
   "display_name": "Python 3 (ipykernel)",
   "language": "python",
   "name": "python3"
  },
  "language_info": {
   "codemirror_mode": {
    "name": "ipython",
    "version": 3
   },
   "file_extension": ".py",
   "mimetype": "text/x-python",
   "name": "python",
   "nbconvert_exporter": "python",
   "pygments_lexer": "ipython3",
   "version": "3.9.13"
  }
 },
 "nbformat": 4,
 "nbformat_minor": 5
}
