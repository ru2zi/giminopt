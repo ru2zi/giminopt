{
 "cells": [
  {
   "cell_type": "code",
   "execution_count": 1,
   "id": "ec557575",
   "metadata": {},
   "outputs": [
    {
     "data": {
      "text/plain": [
       "True"
      ]
     },
     "execution_count": 1,
     "metadata": {},
     "output_type": "execute_result"
    }
   ],
   "source": [
    "from dotenv import load_dotenv\n",
    "import os\n",
    "load_dotenv()"
   ]
  },
  {
   "cell_type": "code",
   "execution_count": 18,
   "id": "68452dde-c2aa-4fd1-8d1c-9d09d36bdd70",
   "metadata": {},
   "outputs": [
    {
     "name": "stderr",
     "output_type": "stream",
     "text": [
      "C:\\Users\\r2com\\AppData\\Local\\Temp\\ipykernel_10348\\1236072498.py:1: DeprecationWarning: \n",
      "Pyarrow will become a required dependency of pandas in the next major release of pandas (pandas 3.0),\n",
      "(to allow more performant data types, such as the Arrow string type, and better interoperability with other libraries)\n",
      "but was not found to be installed on your system.\n",
      "If this would cause problems for you,\n",
      "please provide us feedback at https://github.com/pandas-dev/pandas/issues/54466\n",
      "        \n",
      "  import pandas as pd\n"
     ]
    }
   ],
   "source": [
    "import pandas as pd\n",
    "import openai\n",
    "from openai import OpenAI\n",
    "import os\n",
    "import subprocess\n",
    "\n",
    "client = OpenAI()"
   ]
  },
  {
   "cell_type": "code",
   "execution_count": 34,
   "id": "3bc63a29-b810-4ed9-a302-fd4aa876e1b7",
   "metadata": {},
   "outputs": [],
   "source": [
    "df = pd.read_csv(\"./blog_data.csv\")"
   ]
  },
  {
   "cell_type": "code",
   "execution_count": 35,
   "id": "ba55307b",
   "metadata": {},
   "outputs": [],
   "source": [
    "df.rename(columns={'제목':'prompt', '내용':'completion'}, inplace=True)"
   ]
  },
  {
   "cell_type": "code",
   "execution_count": 36,
   "id": "3eebd510",
   "metadata": {},
   "outputs": [],
   "source": [
    "prepared_data = df.drop('날짜', axis=1)"
   ]
  },
  {
   "cell_type": "code",
   "execution_count": 37,
   "id": "21726d91",
   "metadata": {},
   "outputs": [
    {
     "data": {
      "text/html": [
       "<div>\n",
       "<style scoped>\n",
       "    .dataframe tbody tr th:only-of-type {\n",
       "        vertical-align: middle;\n",
       "    }\n",
       "\n",
       "    .dataframe tbody tr th {\n",
       "        vertical-align: top;\n",
       "    }\n",
       "\n",
       "    .dataframe thead th {\n",
       "        text-align: right;\n",
       "    }\n",
       "</style>\n",
       "<table border=\"1\" class=\"dataframe\">\n",
       "  <thead>\n",
       "    <tr style=\"text-align: right;\">\n",
       "      <th></th>\n",
       "      <th>prompt</th>\n",
       "      <th>completion</th>\n",
       "    </tr>\n",
       "  </thead>\n",
       "  <tbody>\n",
       "    <tr>\n",
       "      <th>0</th>\n",
       "      <td>2024년 빅데이터 동아리 투빅스 TOBIGS 나름의 지극히 주관적인 합격 후기 느...</td>\n",
       "      <td>나름 이번에 21기를 준비하면서 느꼈는데 생각보다 정보가 없어서.. 간단하게 후기를...</td>\n",
       "    </tr>\n",
       "    <tr>\n",
       "      <th>1</th>\n",
       "      <td>SESAC 청년취업사관학교도봉 캠퍼스 준비 과정 및 일주일 후기</td>\n",
       "      <td>여차저차 하면서 시작하게 된 청년취업사관학교 후기를 좀 남겨볼까해요. 아직 일주일 ...</td>\n",
       "    </tr>\n",
       "    <tr>\n",
       "      <th>2</th>\n",
       "      <td>나의 뇌는 4개이다 나를 알고 싶을 때 뇌과학을 공부합니다.</td>\n",
       "      <td>오늘은 최근에 읽게 된 챗북에서 인상깊었던 내용이 있어서 다루어보려 합니다. 한줄로...</td>\n",
       "    </tr>\n",
       "    <tr>\n",
       "      <th>3</th>\n",
       "      <td>간만에 써보는, 인생 전체는 되는대로</td>\n",
       "      <td>학회 회장 인수인계 자료를 만들다가 문득 간만에 기록을 해본다.  9월, 10월 ,...</td>\n",
       "    </tr>\n",
       "    <tr>\n",
       "      <th>4</th>\n",
       "      <td>Etri 랩실 하계 인턴 2주 해보고 느낀 것들 정리해보기</td>\n",
       "      <td>음..이런 느낌의 사회생활은 처음이기에 여러므로 느끼는 바가 많다. 신기하면서도 쉽...</td>\n",
       "    </tr>\n",
       "    <tr>\n",
       "      <th>...</th>\n",
       "      <td>...</td>\n",
       "      <td>...</td>\n",
       "    </tr>\n",
       "    <tr>\n",
       "      <th>262</th>\n",
       "      <td>1인방송장비유튜버장비로는 가성비 최고  마타듀얼핀마이크 솔직 구입 후기</td>\n",
       "      <td>최근들어 유튜브와 같은 1인방송을 시작하시는 분이 많이 늘어났는데요 아마  유튜브를...</td>\n",
       "    </tr>\n",
       "    <tr>\n",
       "      <th>263</th>\n",
       "      <td>반드시 알아야 할 카드뉴스 제작 방법</td>\n",
       "      <td>본 내용에 들어가기에 앞서 카드뉴스 제작에 관한 정보를 알기위해 들어오셨다면  카드...</td>\n",
       "    </tr>\n",
       "    <tr>\n",
       "      <th>264</th>\n",
       "      <td>이미지 사이트 추천 BEST 5</td>\n",
       "      <td>여러분이 만약 누군가가 만들어 놓은 영상 혹은 게시물을 처음 접했을 때 아무리 그 ...</td>\n",
       "    </tr>\n",
       "    <tr>\n",
       "      <th>265</th>\n",
       "      <td>통계 사이트 쉽게 정리하기</td>\n",
       "      <td>지식이 많다 못해서 이제는 넘쳐흐르는 요즘 같은 시대에 정확한 정보를 보고 고를 수...</td>\n",
       "    </tr>\n",
       "    <tr>\n",
       "      <th>266</th>\n",
       "      <td>온라인 강의 플랫폼 후기개인적으로 이용해보고 느낀 점</td>\n",
       "      <td>여러분은 코로나로 인해 외부 활동이 자제되고 있는 요즘과 같은 시대에 집에 있으면...</td>\n",
       "    </tr>\n",
       "  </tbody>\n",
       "</table>\n",
       "<p>267 rows × 2 columns</p>\n",
       "</div>"
      ],
      "text/plain": [
       "                                                prompt  \\\n",
       "0    2024년 빅데이터 동아리 투빅스 TOBIGS 나름의 지극히 주관적인 합격 후기 느...   \n",
       "1                  SESAC 청년취업사관학교도봉 캠퍼스 준비 과정 및 일주일 후기   \n",
       "2                    나의 뇌는 4개이다 나를 알고 싶을 때 뇌과학을 공부합니다.   \n",
       "3                                 간만에 써보는, 인생 전체는 되는대로   \n",
       "4                     Etri 랩실 하계 인턴 2주 해보고 느낀 것들 정리해보기   \n",
       "..                                                 ...   \n",
       "262            1인방송장비유튜버장비로는 가성비 최고  마타듀얼핀마이크 솔직 구입 후기   \n",
       "263                               반드시 알아야 할 카드뉴스 제작 방법   \n",
       "264                                  이미지 사이트 추천 BEST 5   \n",
       "265                                     통계 사이트 쉽게 정리하기   \n",
       "266                      온라인 강의 플랫폼 후기개인적으로 이용해보고 느낀 점   \n",
       "\n",
       "                                            completion  \n",
       "0    나름 이번에 21기를 준비하면서 느꼈는데 생각보다 정보가 없어서.. 간단하게 후기를...  \n",
       "1    여차저차 하면서 시작하게 된 청년취업사관학교 후기를 좀 남겨볼까해요. 아직 일주일 ...  \n",
       "2    오늘은 최근에 읽게 된 챗북에서 인상깊었던 내용이 있어서 다루어보려 합니다. 한줄로...  \n",
       "3    학회 회장 인수인계 자료를 만들다가 문득 간만에 기록을 해본다.  9월, 10월 ,...  \n",
       "4    음..이런 느낌의 사회생활은 처음이기에 여러므로 느끼는 바가 많다. 신기하면서도 쉽...  \n",
       "..                                                 ...  \n",
       "262  최근들어 유튜브와 같은 1인방송을 시작하시는 분이 많이 늘어났는데요 아마  유튜브를...  \n",
       "263  본 내용에 들어가기에 앞서 카드뉴스 제작에 관한 정보를 알기위해 들어오셨다면  카드...  \n",
       "264  여러분이 만약 누군가가 만들어 놓은 영상 혹은 게시물을 처음 접했을 때 아무리 그 ...  \n",
       "265  지식이 많다 못해서 이제는 넘쳐흐르는 요즘 같은 시대에 정확한 정보를 보고 고를 수...  \n",
       "266   여러분은 코로나로 인해 외부 활동이 자제되고 있는 요즘과 같은 시대에 집에 있으면...  \n",
       "\n",
       "[267 rows x 2 columns]"
      ]
     },
     "execution_count": 37,
     "metadata": {},
     "output_type": "execute_result"
    }
   ],
   "source": [
    "prepared_data"
   ]
  },
  {
   "cell_type": "code",
   "execution_count": 38,
   "id": "28f13d7e",
   "metadata": {},
   "outputs": [],
   "source": [
    "import pandas as pd\n",
    "import json\n",
    "\n",
    "# JSONL 파일로 저장하기\n",
    "jsonl_path = './data_format.jsonl'  # 여기에 JSONL 파일을 저장할 경로를 입력하세요.\n",
    "prepared_data.to_json(jsonl_path, orient='records', lines=True, force_ascii=False)"
   ]
  },
  {
   "cell_type": "code",
   "execution_count": 22,
   "id": "4a998324-708e-409a-bda1-d80c08c84b1c",
   "metadata": {},
   "outputs": [
    {
     "data": {
      "text/plain": [
       "CompletedProcess(args=['openai', 'tools', 'fine_tunes.prepare_data', '--file', 'prepared_data.csv', '--quiet'], returncode=0)"
      ]
     },
     "execution_count": 22,
     "metadata": {},
     "output_type": "execute_result"
    }
   ],
   "source": [
    "import subprocess\n",
    "\n",
    "## prepared_data.csv --> prepared_data_prepared.json\n",
    "#subprocess.run('openai tools fine_tunes.prepare_data --file prepared_data.csv --quiet'.split())"
   ]
  },
  {
   "cell_type": "code",
   "execution_count": 23,
   "id": "a7e0b114-b93d-4d31-8496-e9b728382bbb",
   "metadata": {},
   "outputs": [
    {
     "data": {
      "text/plain": [
       "CompletedProcess(args=['openai', 'api', 'fine_tunes.create', '--training_file', 'prepared_data_prepared.jsonl', '--model', 'davinci', '--suffix', '\"SuperHero\"'], returncode=2)"
      ]
     },
     "execution_count": 23,
     "metadata": {},
     "output_type": "execute_result"
    }
   ],
   "source": [
    "## Start fine-tuning\n",
    "#subprocess.run('openai api fine_tunes.create --training_file prepared_data_prepared.jsonl --model davinci --suffix \"SuperHero\"'.split())"
   ]
  },
  {
   "cell_type": "code",
   "execution_count": 39,
   "id": "6c5c4946",
   "metadata": {},
   "outputs": [
    {
     "name": "stdout",
     "output_type": "stream",
     "text": [
      "Data loaded successfully. The first element is:\n",
      "{'prompt': '2024년 빅데이터 동아리 투빅스 TOBIGS 나름의 지극히 주관적인 합격 후기 느끼는 점 등등..', 'completion': '나름 이번에 21기를 준비하면서 느꼈는데 생각보다 정보가 없어서.. 간단하게 후기를 남겨보려 합니다~~  사실 저는 이전에 교내 AI 학회 회장을 마지막 학기에 하면서 이것이 마지막이겠다 라고 생각했는데... 막상 투빅스 처럼 좋은 커뮤니티와 시스템을 가진 활동도 참여해보고 싶은 아쉬움이 항상 있었어요. 그래서 불확실한 미래를 가진 졸업유예생 신분이기는 하지만 나름의 용기와 다짐을 하며 지원을 해보았습니다. 이번이 찐찐막이 될 것 같다는 생각과 이때 아니면 쉽게 하지 못할 경험이 될 것 같다는 생각에..  아래 홈페이지가 투빅스의 사이트인데 일단 동아리가 자체 홈페이지를 가지고 운영한다는 부분이 정말 멋지더라구요. 글고 이전 기수들의 화려한 업적과 경쟁률을 보고 약간 쉽지않겠다는 생각을 많이 했습니다.  일단 제가 지원했던 21기만 해도 20명 가량을 뽑는 것 같은데 서류 지원자가 거의 190명에 가까웠어요. 제가 했던 교내 AI학회는 많이도 40명 정도 서류 검토를 했는데.. 서울 연합 동아리는 확실히 스케일이 다르다는 것을 느꼈어요.ㅎㅎ 다시 본론으로 돌아와서 21기 기준 서류 전형에 합격하기 위한 대표 질문들은 아래와 같았어요. 질문1 간단한 자기소개와 투빅스에 지원하신 동기를 적어주세요. 500자 내외 질문2 데이터분석 또는 AI 분야에 어떻게 관심을 갖게 되었으며, 그와 관련해 어떤 활동노력을 하셨는지 적어주세요. 500자 내외 질문3 협업 활동프로젝트,팀플 등을 수행하면서 가장 기억에 남는 경험을 적어주세요. 400자 내외 질문4 투빅스에서 하고 싶은 프로젝트에 대해 자세히 적어주세요. 400자 내외 저의 경우는 하고 싶은 말이 좀 많아서 ㅎㅎ 글자수를 거의 다 500자 정도로 작성을 했습니다.  제가 생각하는 글을 쓸 때 약간의 팁이라면 처음보는 사람의 입장에서 저라는 사람이 어떤 사람이며 어떻게 나라는 사람을 잘 이해시킬지를 고민했어요. 그래서 스토리텔링을 통해 최대한 질문1과 2는 작성을 했어요.  어떤 글이던 간에 보는이로 하여금 그림이 그려지고 이해가 가능한 글이 가장 좋은 글이 아닌가 라고 저는 생각을 해요.  물론 너무 장황한 것도 그닥 좋지는 않지만요.  그리고 질문 3은 제가 작년에 경험한 팀 활동 중에 가장 잘 설명할 수 있다고 생각하는 소재를 고르고 어떠한 상황이었는지, 아떠한 문제가 있었는지, 그리고 나는 어떻게 해결을 하려 했는지 그 과정에서 깨달은 내용이 무엇인지 를 최대한 담으려 했어요.  질문 4는 각자의 니즈에 따라 다채롭게 작성할 수 있을 것 같아요..  이러한 앞선 설명은 단순히 저라는 사람의 하나의 사례이니 참고정도로만 하시면 좋을 것 같아요.  그렇게 정성스럽게 작성을 해서..서류를 패스하고 이름은 다른 게시물 뒤적하다 보면 곰방 아실 수 있겠지만..ㅎㅎ 면접에 관한 사항을 준비하였습니다. 면접은 다대다 방식이고 뽑는 인원의 3~4배 정도가 면접 심사를 거치기에 사실 붙을지 더 모르겠더라구요.  글고 거의 면접보는 사람이 70~80명이였는데 제가 본 동아리 면접 중에는 최대규모 여서 좀 긴장을 했던 것 같아요.  동아리에 들어와서 임원진들을 통해 알게 된 사실은 조가 총 3조로 나누어지는데 나누어지는 방식은 본인의 관심 분야에 따라 조가 편성된다고 해요. 예를 들면 1조는 데이터분석, 2조는 자연어, 3조는 이미지 이런 식으로 조가 편성되었다고 해요. 물론 인원수를 고려하여 정확하게 나누어질 수는 없다는 것 참고해주세요  저의 경우 면접 준비를 위해 과거 투빅스의 프로젝트 영상 및 자료들을 참고하여 모델에 대해 간단하게 공부를 하고 자기소개서 내용을 중심으로 리마인드를 하려 했어요. 대충 요런 느낌 왜냐하면 저도 그래도 몇차례 동아리 운영진으로서 면접을 진행하며 느낀바가 조금 있었기 때문이였던 것 같아요. 저의 경우 1.지원자가 우리 동아리에 대해 얼만큼 알고 있나  과거 활동들을 찾아보고 어필 2. 지원자가 동아리 활동을 끝까지 마칠 수 있는 사람인가  성실성 및 열정을 보여줄 수 있는 사례  이 두가지를 중점으로 보았고 실제로 위의 질문에 대해 답변을 잘하는 분들이 인상깊은 동아리원이기도 했으니까요.  그래서 투빅스의 과거 프로젝트를 찾아보고 저의 성실성을 보여줄 수 있는 것들도 정리를 해보았는데..  면접을 봐보니 열정은 이미 모든 지원자들이 갖고 있기에 커리큘럼을 따라올 수 있는 지식을 최소한 갖고 있는지를 중점으로 보시는 것 같더라구요. 저 역시 4개의 질문을 받았는데  1번 자기소개 2번 서류 지원할 때 작성한 프로젝트 관련 지식 3번 인공지능 관련 지식 공통 질문 4번 자기소개서 3번 관련 심화 질문 마지막으로는 마지막 한마디를 하고 면접을 마무리했습니다.  제가 면접자 입장으로 본거는 오랜만이기도 해서인지.. 약간 긴장이 되기도 하면서 제대로 질문에 답변을 하지 못한 것 같아서 아쉬웠어요.. 하지만 면접에서 놓치지 않으려한 자신감이랑 본인을 기억 남게하는 한가지의 소재 혹은 단어 이 두가지를 계속 잡으려고 노력해서인지 몰라도.. 동아리에 합류를 할 수 있게 되었습니다. 실제로 저는 자기소개 할때 이전 연합동아리에서 나를 대표하는 한가지 단어를 고민했던 시기에 만든 단어를 토대로 자기소개를 진행했어요. 어짜피 면접관 입장에서 지원자에 대해 남는 것은 한 단어이더라구요 그리고 남들은 하지 않을 소개 구성을 최대한 짜려고 하다보니 다행히 기억에 남게되었던 것 같지 않나 싶었어요.  어떤 면접이든 간에 남들과 다른 뻔하지 않는 구성을 고민해보는 것은 필요한 것 같다고 저 스스로 다시금 느낀 계기가 된 것 같아요.  아직 처음이라 앞으로 우당탕탕하겠지만.. 해보고 싶었던 활동인 만큼 열심히 해보며 추후에 최종 동아리 후기도 남기는 것을 목표로 해보겠아요. '}\n"
     ]
    }
   ],
   "source": [
    "import json\n",
    "\n",
    "data_path = \"./data_format.jsonl\"\n",
    "\n",
    "# Load the dataset\n",
    "with open(data_path, 'r', encoding='utf-8') as f:\n",
    "    dataset = [json.loads(line) for line in f]\n",
    "\n",
    "# Check if data is loaded properly\n",
    "if len(dataset) > 0:\n",
    "    print(\"Data loaded successfully. The first element is:\")\n",
    "    print(dataset[0])\n",
    "else:\n",
    "    print(\"No data loaded. Check the file path or the file content.\")"
   ]
  },
  {
   "cell_type": "code",
   "execution_count": 27,
   "id": "1c7df388",
   "metadata": {},
   "outputs": [
    {
     "name": "stdout",
     "output_type": "stream",
     "text": [
      "Num examples: 267\n",
      "First example:\n"
     ]
    },
    {
     "ename": "KeyError",
     "evalue": "'messages'",
     "output_type": "error",
     "traceback": [
      "\u001b[1;31m---------------------------------------------------------------------------\u001b[0m",
      "\u001b[1;31mKeyError\u001b[0m                                  Traceback (most recent call last)",
      "Cell \u001b[1;32mIn[27], line 4\u001b[0m\n\u001b[0;32m      2\u001b[0m \u001b[38;5;28mprint\u001b[39m(\u001b[38;5;124m\"\u001b[39m\u001b[38;5;124mNum examples:\u001b[39m\u001b[38;5;124m\"\u001b[39m, \u001b[38;5;28mlen\u001b[39m(dataset))\n\u001b[0;32m      3\u001b[0m \u001b[38;5;28mprint\u001b[39m(\u001b[38;5;124m\"\u001b[39m\u001b[38;5;124mFirst example:\u001b[39m\u001b[38;5;124m\"\u001b[39m)\n\u001b[1;32m----> 4\u001b[0m \u001b[38;5;28;01mfor\u001b[39;00m message \u001b[38;5;129;01min\u001b[39;00m \u001b[43mdataset\u001b[49m\u001b[43m[\u001b[49m\u001b[38;5;241;43m0\u001b[39;49m\u001b[43m]\u001b[49m\u001b[43m[\u001b[49m\u001b[38;5;124;43m\"\u001b[39;49m\u001b[38;5;124;43mmessages\u001b[39;49m\u001b[38;5;124;43m\"\u001b[39;49m\u001b[43m]\u001b[49m:\n\u001b[0;32m      5\u001b[0m     \u001b[38;5;28mprint\u001b[39m(message)\n",
      "\u001b[1;31mKeyError\u001b[0m: 'messages'"
     ]
    }
   ],
   "source": [
    "# Initial dataset stats\n",
    "print(\"Num examples:\", len(dataset))\n",
    "print(\"First example:\")\n",
    "for message in dataset[0][\"messages\"]:\n",
    "    print(message)"
   ]
  }
 ],
 "metadata": {
  "kernelspec": {
   "display_name": "Python 3 (ipykernel)",
   "language": "python",
   "name": "python3"
  },
  "language_info": {
   "codemirror_mode": {
    "name": "ipython",
    "version": 3
   },
   "file_extension": ".py",
   "mimetype": "text/x-python",
   "name": "python",
   "nbconvert_exporter": "python",
   "pygments_lexer": "ipython3",
   "version": "3.9.13"
  }
 },
 "nbformat": 4,
 "nbformat_minor": 5
}
