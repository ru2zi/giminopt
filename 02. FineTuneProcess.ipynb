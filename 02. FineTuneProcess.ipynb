{
 "cells": [
  {
   "cell_type": "code",
   "execution_count": 1,
   "id": "ec557575",
   "metadata": {},
   "outputs": [
    {
     "data": {
      "text/plain": [
       "True"
      ]
     },
     "execution_count": 1,
     "metadata": {},
     "output_type": "execute_result"
    }
   ],
   "source": [
    "from dotenv import load_dotenv\n",
    "import os\n",
    "load_dotenv()"
   ]
  },
  {
   "cell_type": "code",
   "execution_count": 12,
   "id": "68452dde-c2aa-4fd1-8d1c-9d09d36bdd70",
   "metadata": {},
   "outputs": [],
   "source": [
    "import pandas as pd\n",
    "import openai\n",
    "from openai import OpenAI\n",
    "import os\n",
    "import subprocess\n",
    "\n",
    "client = OpenAI()"
   ]
  },
  {
   "cell_type": "code",
   "execution_count": 18,
   "id": "3bc63a29-b810-4ed9-a302-fd4aa876e1b7",
   "metadata": {},
   "outputs": [],
   "source": [
    "df = pd.read_csv(\"./blog_data.csv\")"
   ]
  },
  {
   "cell_type": "code",
   "execution_count": 19,
   "id": "ba55307b",
   "metadata": {},
   "outputs": [],
   "source": [
    "df.rename(columns={'제목':'prompt', '내용':'completion'}, inplace=True)"
   ]
  },
  {
   "cell_type": "code",
   "execution_count": 20,
   "id": "3eebd510",
   "metadata": {},
   "outputs": [],
   "source": [
    "prepared_data = df.drop('날짜', axis=1)"
   ]
  },
  {
   "cell_type": "code",
   "execution_count": 21,
   "id": "21726d91",
   "metadata": {},
   "outputs": [
    {
     "data": {
      "text/html": [
       "<div>\n",
       "<style scoped>\n",
       "    .dataframe tbody tr th:only-of-type {\n",
       "        vertical-align: middle;\n",
       "    }\n",
       "\n",
       "    .dataframe tbody tr th {\n",
       "        vertical-align: top;\n",
       "    }\n",
       "\n",
       "    .dataframe thead th {\n",
       "        text-align: right;\n",
       "    }\n",
       "</style>\n",
       "<table border=\"1\" class=\"dataframe\">\n",
       "  <thead>\n",
       "    <tr style=\"text-align: right;\">\n",
       "      <th></th>\n",
       "      <th>prompt</th>\n",
       "      <th>completion</th>\n",
       "    </tr>\n",
       "  </thead>\n",
       "  <tbody>\n",
       "    <tr>\n",
       "      <th>0</th>\n",
       "      <td>2024년 빅데이터 동아리 투빅스 TOBIGS 나름의 지극히 주관적인 합격 후기 느...</td>\n",
       "      <td>나름 이번에 21기를 준비하면서 느꼈는데 생각보다 정보가 없어서 간단하게 후기를 남...</td>\n",
       "    </tr>\n",
       "    <tr>\n",
       "      <th>1</th>\n",
       "      <td>SESAC 청년취업사관학교도봉 캠퍼스 준비 과정 및 일주일 후기</td>\n",
       "      <td>여차저차 하면서 시작하게 된 청년취업사관학교 후기를 좀 남겨볼까해요 아직 일주일 차...</td>\n",
       "    </tr>\n",
       "    <tr>\n",
       "      <th>2</th>\n",
       "      <td>나의 뇌는 4개이다 나를 알고 싶을 때 뇌과학을 공부합니다</td>\n",
       "      <td>오늘은 최근에 읽게 된 챗북에서 인상깊었던 내용이 있어서 다루어보려 합니다 한줄로 ...</td>\n",
       "    </tr>\n",
       "    <tr>\n",
       "      <th>3</th>\n",
       "      <td>간만에 써보는 인생 전체는 되는대로</td>\n",
       "      <td>학회 회장 인수인계 자료를 만들다가 문득 간만에 기록을 해본다  9월 10월 11월...</td>\n",
       "    </tr>\n",
       "    <tr>\n",
       "      <th>4</th>\n",
       "      <td>Etri 랩실 하계 인턴 2주 해보고 느낀 것들 정리해보기</td>\n",
       "      <td>음이런 느낌의 사회생활은 처음이기에 여러므로 느끼는 바가 많다 신기하면서도 쉽지않다...</td>\n",
       "    </tr>\n",
       "    <tr>\n",
       "      <th>...</th>\n",
       "      <td>...</td>\n",
       "      <td>...</td>\n",
       "    </tr>\n",
       "    <tr>\n",
       "      <th>262</th>\n",
       "      <td>1인방송장비유튜버장비로는 가성비 최고  마타듀얼핀마이크 솔직 구입 후기</td>\n",
       "      <td>최근들어 유튜브와 같은 1인방송을 시작하시는 분이 많이 늘어났는데요 아마  유튜브를...</td>\n",
       "    </tr>\n",
       "    <tr>\n",
       "      <th>263</th>\n",
       "      <td>반드시 알아야 할 카드뉴스 제작 방법</td>\n",
       "      <td>본 내용에 들어가기에 앞서 카드뉴스 제작에 관한 정보를 알기위해 들어오셨다면  카드...</td>\n",
       "    </tr>\n",
       "    <tr>\n",
       "      <th>264</th>\n",
       "      <td>이미지 사이트 추천 BEST 5</td>\n",
       "      <td>여러분이 만약 누군가가 만들어 놓은 영상 혹은 게시물을 처음 접했을 때 아무리 그 ...</td>\n",
       "    </tr>\n",
       "    <tr>\n",
       "      <th>265</th>\n",
       "      <td>통계 사이트 쉽게 정리하기</td>\n",
       "      <td>지식이 많다 못해서 이제는 넘쳐흐르는 요즘 같은 시대에 정확한 정보를 보고 고를 수...</td>\n",
       "    </tr>\n",
       "    <tr>\n",
       "      <th>266</th>\n",
       "      <td>온라인 강의 플랫폼 후기개인적으로 이용해보고 느낀 점</td>\n",
       "      <td>여러분은 코로나로 인해 외부 활동이 자제되고 있는 요즘과 같은 시대에 집에 있으면...</td>\n",
       "    </tr>\n",
       "  </tbody>\n",
       "</table>\n",
       "<p>267 rows × 2 columns</p>\n",
       "</div>"
      ],
      "text/plain": [
       "                                                prompt  \\\n",
       "0    2024년 빅데이터 동아리 투빅스 TOBIGS 나름의 지극히 주관적인 합격 후기 느...   \n",
       "1                  SESAC 청년취업사관학교도봉 캠퍼스 준비 과정 및 일주일 후기   \n",
       "2                     나의 뇌는 4개이다 나를 알고 싶을 때 뇌과학을 공부합니다   \n",
       "3                                  간만에 써보는 인생 전체는 되는대로   \n",
       "4                     Etri 랩실 하계 인턴 2주 해보고 느낀 것들 정리해보기   \n",
       "..                                                 ...   \n",
       "262            1인방송장비유튜버장비로는 가성비 최고  마타듀얼핀마이크 솔직 구입 후기   \n",
       "263                               반드시 알아야 할 카드뉴스 제작 방법   \n",
       "264                                  이미지 사이트 추천 BEST 5   \n",
       "265                                     통계 사이트 쉽게 정리하기   \n",
       "266                      온라인 강의 플랫폼 후기개인적으로 이용해보고 느낀 점   \n",
       "\n",
       "                                            completion  \n",
       "0    나름 이번에 21기를 준비하면서 느꼈는데 생각보다 정보가 없어서 간단하게 후기를 남...  \n",
       "1    여차저차 하면서 시작하게 된 청년취업사관학교 후기를 좀 남겨볼까해요 아직 일주일 차...  \n",
       "2    오늘은 최근에 읽게 된 챗북에서 인상깊었던 내용이 있어서 다루어보려 합니다 한줄로 ...  \n",
       "3    학회 회장 인수인계 자료를 만들다가 문득 간만에 기록을 해본다  9월 10월 11월...  \n",
       "4    음이런 느낌의 사회생활은 처음이기에 여러므로 느끼는 바가 많다 신기하면서도 쉽지않다...  \n",
       "..                                                 ...  \n",
       "262  최근들어 유튜브와 같은 1인방송을 시작하시는 분이 많이 늘어났는데요 아마  유튜브를...  \n",
       "263  본 내용에 들어가기에 앞서 카드뉴스 제작에 관한 정보를 알기위해 들어오셨다면  카드...  \n",
       "264  여러분이 만약 누군가가 만들어 놓은 영상 혹은 게시물을 처음 접했을 때 아무리 그 ...  \n",
       "265  지식이 많다 못해서 이제는 넘쳐흐르는 요즘 같은 시대에 정확한 정보를 보고 고를 수...  \n",
       "266   여러분은 코로나로 인해 외부 활동이 자제되고 있는 요즘과 같은 시대에 집에 있으면...  \n",
       "\n",
       "[267 rows x 2 columns]"
      ]
     },
     "execution_count": 21,
     "metadata": {},
     "output_type": "execute_result"
    }
   ],
   "source": [
    "prepared_data"
   ]
  },
  {
   "cell_type": "code",
   "execution_count": 13,
   "id": "007804cc-0591-4ea6-ba59-69f31e9f7f54",
   "metadata": {},
   "outputs": [],
   "source": [
    "prepared_data.to_csv('prepared_data.csv',index=False)"
   ]
  },
  {
   "cell_type": "code",
   "execution_count": 22,
   "id": "4a998324-708e-409a-bda1-d80c08c84b1c",
   "metadata": {},
   "outputs": [
    {
     "data": {
      "text/plain": [
       "CompletedProcess(args=['openai', 'tools', 'fine_tunes.prepare_data', '--file', 'prepared_data.csv', '--quiet'], returncode=0)"
      ]
     },
     "execution_count": 22,
     "metadata": {},
     "output_type": "execute_result"
    }
   ],
   "source": [
    "import subprocess\n",
    "\n",
    "## prepared_data.csv --> prepared_data_prepared.json\n",
    "subprocess.run('openai tools fine_tunes.prepare_data --file prepared_data.csv --quiet'.split())"
   ]
  },
  {
   "cell_type": "code",
   "execution_count": 23,
   "id": "a7e0b114-b93d-4d31-8496-e9b728382bbb",
   "metadata": {},
   "outputs": [
    {
     "data": {
      "text/plain": [
       "CompletedProcess(args=['openai', 'api', 'fine_tunes.create', '--training_file', 'prepared_data_prepared.jsonl', '--model', 'davinci', '--suffix', '\"SuperHero\"'], returncode=2)"
      ]
     },
     "execution_count": 23,
     "metadata": {},
     "output_type": "execute_result"
    }
   ],
   "source": [
    "## Start fine-tuning\n",
    "subprocess.run('openai api fine_tunes.create --training_file prepared_data_prepared.jsonl --model davinci --suffix \"SuperHero\"'.split())"
   ]
  },
  {
   "cell_type": "code",
   "execution_count": 24,
   "id": "6c5c4946",
   "metadata": {},
   "outputs": [
    {
     "data": {
      "text/html": [
       "<div>\n",
       "<style scoped>\n",
       "    .dataframe tbody tr th:only-of-type {\n",
       "        vertical-align: middle;\n",
       "    }\n",
       "\n",
       "    .dataframe tbody tr th {\n",
       "        vertical-align: top;\n",
       "    }\n",
       "\n",
       "    .dataframe thead th {\n",
       "        text-align: right;\n",
       "    }\n",
       "</style>\n",
       "<table border=\"1\" class=\"dataframe\">\n",
       "  <thead>\n",
       "    <tr style=\"text-align: right;\">\n",
       "      <th></th>\n",
       "      <th>prompt</th>\n",
       "      <th>completion</th>\n",
       "    </tr>\n",
       "  </thead>\n",
       "  <tbody>\n",
       "    <tr>\n",
       "      <th>0</th>\n",
       "      <td>2024년 빅데이터 동아리 투빅스 TOBIGS 나름의 지극히 주관적인 합격 후기 느...</td>\n",
       "      <td>나름 이번에 21기를 준비하면서 느꼈는데 생각보다 정보가 없어서 간단하게 후기를 남...</td>\n",
       "    </tr>\n",
       "    <tr>\n",
       "      <th>1</th>\n",
       "      <td>SESAC 청년취업사관학교도봉 캠퍼스 준비 과정 및 일주일 후기</td>\n",
       "      <td>여차저차 하면서 시작하게 된 청년취업사관학교 후기를 좀 남겨볼까해요 아직 일주일 차...</td>\n",
       "    </tr>\n",
       "    <tr>\n",
       "      <th>2</th>\n",
       "      <td>나의 뇌는 4개이다 나를 알고 싶을 때 뇌과학을 공부합니다</td>\n",
       "      <td>오늘은 최근에 읽게 된 챗북에서 인상깊었던 내용이 있어서 다루어보려 합니다 한줄로 ...</td>\n",
       "    </tr>\n",
       "    <tr>\n",
       "      <th>3</th>\n",
       "      <td>간만에 써보는 인생 전체는 되는대로</td>\n",
       "      <td>학회 회장 인수인계 자료를 만들다가 문득 간만에 기록을 해본다  9월 10월 11월...</td>\n",
       "    </tr>\n",
       "    <tr>\n",
       "      <th>4</th>\n",
       "      <td>Etri 랩실 하계 인턴 2주 해보고 느낀 것들 정리해보기</td>\n",
       "      <td>음이런 느낌의 사회생활은 처음이기에 여러므로 느끼는 바가 많다 신기하면서도 쉽지않다...</td>\n",
       "    </tr>\n",
       "    <tr>\n",
       "      <th>...</th>\n",
       "      <td>...</td>\n",
       "      <td>...</td>\n",
       "    </tr>\n",
       "    <tr>\n",
       "      <th>262</th>\n",
       "      <td>1인방송장비유튜버장비로는 가성비 최고  마타듀얼핀마이크 솔직 구입 후기</td>\n",
       "      <td>최근들어 유튜브와 같은 1인방송을 시작하시는 분이 많이 늘어났는데요 아마  유튜브를...</td>\n",
       "    </tr>\n",
       "    <tr>\n",
       "      <th>263</th>\n",
       "      <td>반드시 알아야 할 카드뉴스 제작 방법</td>\n",
       "      <td>본 내용에 들어가기에 앞서 카드뉴스 제작에 관한 정보를 알기위해 들어오셨다면  카드...</td>\n",
       "    </tr>\n",
       "    <tr>\n",
       "      <th>264</th>\n",
       "      <td>이미지 사이트 추천 BEST 5</td>\n",
       "      <td>여러분이 만약 누군가가 만들어 놓은 영상 혹은 게시물을 처음 접했을 때 아무리 그 ...</td>\n",
       "    </tr>\n",
       "    <tr>\n",
       "      <th>265</th>\n",
       "      <td>통계 사이트 쉽게 정리하기</td>\n",
       "      <td>지식이 많다 못해서 이제는 넘쳐흐르는 요즘 같은 시대에 정확한 정보를 보고 고를 수...</td>\n",
       "    </tr>\n",
       "    <tr>\n",
       "      <th>266</th>\n",
       "      <td>온라인 강의 플랫폼 후기개인적으로 이용해보고 느낀 점</td>\n",
       "      <td>여러분은 코로나로 인해 외부 활동이 자제되고 있는 요즘과 같은 시대에 집에 있으면...</td>\n",
       "    </tr>\n",
       "  </tbody>\n",
       "</table>\n",
       "<p>267 rows × 2 columns</p>\n",
       "</div>"
      ],
      "text/plain": [
       "                                                prompt  \\\n",
       "0    2024년 빅데이터 동아리 투빅스 TOBIGS 나름의 지극히 주관적인 합격 후기 느...   \n",
       "1                  SESAC 청년취업사관학교도봉 캠퍼스 준비 과정 및 일주일 후기   \n",
       "2                     나의 뇌는 4개이다 나를 알고 싶을 때 뇌과학을 공부합니다   \n",
       "3                                  간만에 써보는 인생 전체는 되는대로   \n",
       "4                     Etri 랩실 하계 인턴 2주 해보고 느낀 것들 정리해보기   \n",
       "..                                                 ...   \n",
       "262            1인방송장비유튜버장비로는 가성비 최고  마타듀얼핀마이크 솔직 구입 후기   \n",
       "263                               반드시 알아야 할 카드뉴스 제작 방법   \n",
       "264                                  이미지 사이트 추천 BEST 5   \n",
       "265                                     통계 사이트 쉽게 정리하기   \n",
       "266                      온라인 강의 플랫폼 후기개인적으로 이용해보고 느낀 점   \n",
       "\n",
       "                                            completion  \n",
       "0    나름 이번에 21기를 준비하면서 느꼈는데 생각보다 정보가 없어서 간단하게 후기를 남...  \n",
       "1    여차저차 하면서 시작하게 된 청년취업사관학교 후기를 좀 남겨볼까해요 아직 일주일 차...  \n",
       "2    오늘은 최근에 읽게 된 챗북에서 인상깊었던 내용이 있어서 다루어보려 합니다 한줄로 ...  \n",
       "3    학회 회장 인수인계 자료를 만들다가 문득 간만에 기록을 해본다  9월 10월 11월...  \n",
       "4    음이런 느낌의 사회생활은 처음이기에 여러므로 느끼는 바가 많다 신기하면서도 쉽지않다...  \n",
       "..                                                 ...  \n",
       "262  최근들어 유튜브와 같은 1인방송을 시작하시는 분이 많이 늘어났는데요 아마  유튜브를...  \n",
       "263  본 내용에 들어가기에 앞서 카드뉴스 제작에 관한 정보를 알기위해 들어오셨다면  카드...  \n",
       "264  여러분이 만약 누군가가 만들어 놓은 영상 혹은 게시물을 처음 접했을 때 아무리 그 ...  \n",
       "265  지식이 많다 못해서 이제는 넘쳐흐르는 요즘 같은 시대에 정확한 정보를 보고 고를 수...  \n",
       "266   여러분은 코로나로 인해 외부 활동이 자제되고 있는 요즘과 같은 시대에 집에 있으면...  \n",
       "\n",
       "[267 rows x 2 columns]"
      ]
     },
     "execution_count": 24,
     "metadata": {},
     "output_type": "execute_result"
    }
   ],
   "source": [
    "prepared_data"
   ]
  }
 ],
 "metadata": {
  "kernelspec": {
   "display_name": "Python 3 (ipykernel)",
   "language": "python",
   "name": "python3"
  },
  "language_info": {
   "codemirror_mode": {
    "name": "ipython",
    "version": 3
   },
   "file_extension": ".py",
   "mimetype": "text/x-python",
   "name": "python",
   "nbconvert_exporter": "python",
   "pygments_lexer": "ipython3",
   "version": "3.9.13"
  }
 },
 "nbformat": 4,
 "nbformat_minor": 5
}
